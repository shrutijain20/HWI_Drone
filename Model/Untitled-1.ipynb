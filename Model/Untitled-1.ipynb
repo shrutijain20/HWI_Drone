{
 "cells": [
  {
   "cell_type": "code",
   "execution_count": 1,
   "metadata": {},
   "outputs": [
    {
     "name": "stdout",
     "output_type": "stream",
     "text": [
      "Collecting deepforest\n",
      "  Using cached deepforest-1.2.1-py3-none-any.whl (20.0 MB)\n",
      "Requirement already satisfied: imagecodecs in c:\\users\\jains\\anaconda3\\lib\\site-packages (from deepforest) (2021.8.26)\n",
      "Collecting slidingwindow\n",
      "  Using cached slidingwindow-0.0.14-py3-none-any.whl (9.0 kB)\n",
      "Collecting rasterio\n",
      "  Using cached rasterio-1.3.2-cp39-cp39-win_amd64.whl (22.2 MB)\n",
      "Requirement already satisfied: rtree in c:\\users\\jains\\anaconda3\\lib\\site-packages (from deepforest) (0.9.7)\n",
      "Requirement already satisfied: pandas in c:\\users\\jains\\anaconda3\\lib\\site-packages (from deepforest) (1.4.2)\n",
      "Collecting xmltodict\n",
      "  Using cached xmltodict-0.13.0-py2.py3-none-any.whl (10.0 kB)\n",
      "Requirement already satisfied: scipy>1.5 in c:\\users\\jains\\anaconda3\\lib\\site-packages (from deepforest) (1.7.3)\n",
      "Collecting progressbar2\n",
      "  Using cached progressbar2-4.0.0-py2.py3-none-any.whl (26 kB)\n",
      "Requirement already satisfied: torch in c:\\users\\jains\\anaconda3\\lib\\site-packages (from deepforest) (1.12.1)\n",
      "Collecting geopandas\n",
      "  Using cached geopandas-0.11.1-py3-none-any.whl (1.0 MB)\n",
      "Requirement already satisfied: tqdm in c:\\users\\jains\\anaconda3\\lib\\site-packages (from deepforest) (4.64.0)\n",
      "Collecting torchvision>0.9.0\n",
      "  Using cached torchvision-0.13.1-cp39-cp39-win_amd64.whl (1.1 MB)\n",
      "Requirement already satisfied: numpy in c:\\users\\jains\\anaconda3\\lib\\site-packages (from deepforest) (1.21.5)\n",
      "Collecting albumentations\n",
      "  Using cached albumentations-1.2.1-py3-none-any.whl (116 kB)\n"
     ]
    },
    {
     "name": "stderr",
     "output_type": "stream",
     "text": [
      "  error: subprocess-exited-with-error\n",
      "  \n",
      "  × python setup.py egg_info did not run successfully.\n",
      "  │ exit code: 1\n",
      "  ╰─> [1 lines of output]\n",
      "      A GDAL API version must be specified. Provide a path to gdal-config using a GDAL_CONFIG environment variable or use a GDAL_VERSION environment variable.\n",
      "      [end of output]\n",
      "  \n",
      "  note: This error originates from a subprocess, and is likely not a problem with pip.\n",
      "error: metadata-generation-failed\n",
      "\n",
      "× Encountered error while generating package metadata.\n",
      "╰─> See above for output.\n",
      "\n",
      "note: This is an issue with the package mentioned above, not pip.\n",
      "hint: See above for details.\n"
     ]
    },
    {
     "name": "stdout",
     "output_type": "stream",
     "text": [
      "Collecting pytorch-lightning\n",
      "  Using cached pytorch_lightning-1.7.3-py3-none-any.whl (705 kB)\n",
      "Requirement already satisfied: six in c:\\users\\jains\\anaconda3\\lib\\site-packages (from deepforest) (1.16.0)\n",
      "Requirement already satisfied: matplotlib in c:\\users\\jains\\anaconda3\\lib\\site-packages (from deepforest) (3.5.1)\n",
      "Requirement already satisfied: Pillow>6.2.0 in c:\\users\\jains\\anaconda3\\lib\\site-packages (from deepforest) (9.0.1)\n",
      "Requirement already satisfied: typing-extensions in c:\\users\\jains\\anaconda3\\lib\\site-packages (from torchvision>0.9.0->deepforest) (4.1.1)\n",
      "Requirement already satisfied: requests in c:\\users\\jains\\anaconda3\\lib\\site-packages (from torchvision>0.9.0->deepforest) (2.27.1)\n",
      "Collecting opencv-python-headless>=4.1.1\n",
      "  Using cached opencv_python_headless-4.6.0.66-cp36-abi3-win_amd64.whl (35.5 MB)\n",
      "Requirement already satisfied: scikit-image>=0.16.1 in c:\\users\\jains\\anaconda3\\lib\\site-packages (from albumentations->deepforest) (0.19.2)\n",
      "Collecting qudida>=0.0.4\n",
      "  Using cached qudida-0.0.4-py3-none-any.whl (3.5 kB)\n",
      "Requirement already satisfied: PyYAML in c:\\users\\jains\\anaconda3\\lib\\site-packages (from albumentations->deepforest) (6.0)\n",
      "Collecting shapely<2,>=1.7\n",
      "  Using cached Shapely-1.8.4-cp39-cp39-win_amd64.whl (1.3 MB)\n",
      "Collecting pyproj>=2.6.1.post1\n",
      "  Using cached pyproj-3.3.1-cp39-cp39-win_amd64.whl (6.4 MB)\n",
      "Collecting fiona>=1.8\n",
      "  Using cached Fiona-1.8.21.tar.gz (1.0 MB)\n",
      "  Preparing metadata (setup.py): started\n",
      "  Preparing metadata (setup.py): finished with status 'error'\n"
     ]
    }
   ],
   "source": [
    "!pip install deepforest"
   ]
  },
  {
   "cell_type": "code",
   "execution_count": 2,
   "metadata": {},
   "outputs": [
    {
     "ename": "ModuleNotFoundError",
     "evalue": "No module named 'deepforest'",
     "output_type": "error",
     "traceback": [
      "\u001b[1;31m---------------------------------------------------------------------------\u001b[0m",
      "\u001b[1;31mModuleNotFoundError\u001b[0m                       Traceback (most recent call last)",
      "\u001b[1;32m~\\AppData\\Local\\Temp/ipykernel_10232/2305252501.py\u001b[0m in \u001b[0;36m<module>\u001b[1;34m\u001b[0m\n\u001b[1;32m----> 1\u001b[1;33m \u001b[1;32mfrom\u001b[0m \u001b[0mdeepforest\u001b[0m \u001b[1;32mimport\u001b[0m \u001b[0mmain\u001b[0m\u001b[1;33m\u001b[0m\u001b[1;33m\u001b[0m\u001b[0m\n\u001b[0m\u001b[0;32m      2\u001b[0m \u001b[1;32mfrom\u001b[0m \u001b[0mdeepforest\u001b[0m \u001b[1;32mimport\u001b[0m \u001b[0mget_data\u001b[0m\u001b[1;33m\u001b[0m\u001b[1;33m\u001b[0m\u001b[0m\n\u001b[0;32m      3\u001b[0m \u001b[1;32mimport\u001b[0m \u001b[0mos\u001b[0m\u001b[1;33m\u001b[0m\u001b[1;33m\u001b[0m\u001b[0m\n\u001b[0;32m      4\u001b[0m \u001b[1;32mimport\u001b[0m \u001b[0mmatplotlib\u001b[0m\u001b[1;33m.\u001b[0m\u001b[0mpyplot\u001b[0m \u001b[1;32mas\u001b[0m \u001b[0mplt\u001b[0m\u001b[1;33m\u001b[0m\u001b[1;33m\u001b[0m\u001b[0m\n\u001b[0;32m      5\u001b[0m \u001b[1;32mfrom\u001b[0m \u001b[0mmatplotlib\u001b[0m\u001b[1;33m.\u001b[0m\u001b[0mpyplot\u001b[0m \u001b[1;32mimport\u001b[0m \u001b[0mfigure\u001b[0m\u001b[1;33m\u001b[0m\u001b[1;33m\u001b[0m\u001b[0m\n",
      "\u001b[1;31mModuleNotFoundError\u001b[0m: No module named 'deepforest'"
     ]
    }
   ],
   "source": [
    "from deepforest import main\n",
    "from deepforest import get_data\n",
    "import os\n",
    "import matplotlib.pyplot as plt\n",
    "from matplotlib.pyplot import figure\n",
    "\n",
    "# figure(figsize=(12, 10), dpi=80)\n",
    "# model = main.deepforest()\n",
    "# model.use_release()\n",
    "\n",
    "# img = model.predict_image(path=\"/content/frame142.jpg\",return_plot=True, )\n",
    "\n",
    "# #predict_image returns plot in BlueGreenRed (opencv style), but matplotlib likes RedGreenBlue, switch the channel order.\n",
    "# plt.imshow(img[:,:,::-1])"
   ]
  },
  {
   "cell_type": "code",
   "execution_count": 3,
   "metadata": {},
   "outputs": [
    {
     "name": "stderr",
     "output_type": "stream",
     "text": [
      "  error: subprocess-exited-with-error\n",
      "  \n",
      "  × python setup.py egg_info did not run successfully.\n",
      "  │ exit code: 1\n",
      "  ╰─> [1 lines of output]\n",
      "      A GDAL API version must be specified. Provide a path to gdal-config using a GDAL_CONFIG environment variable or use a GDAL_VERSION environment variable.\n",
      "      [end of output]\n",
      "  \n",
      "  note: This error originates from a subprocess, and is likely not a problem with pip.\n",
      "error: metadata-generation-failed\n",
      "\n",
      "× Encountered error while generating package metadata.\n",
      "╰─> See above for output.\n",
      "\n",
      "note: This is an issue with the package mentioned above, not pip.\n",
      "hint: See above for details.\n"
     ]
    }
   ],
   "source": [
    "!pip -q install pycurl\n",
    "!pip -q install DeepForest"
   ]
  },
  {
   "cell_type": "code",
   "execution_count": null,
   "metadata": {},
   "outputs": [],
   "source": []
  }
 ],
 "metadata": {
  "kernelspec": {
   "display_name": "Python 3.10.1 64-bit",
   "language": "python",
   "name": "python3"
  },
  "language_info": {
   "codemirror_mode": {
    "name": "ipython",
    "version": 3
   },
   "file_extension": ".py",
   "mimetype": "text/x-python",
   "name": "python",
   "nbconvert_exporter": "python",
   "pygments_lexer": "ipython3",
   "version": "3.10.1"
  },
  "orig_nbformat": 4,
  "vscode": {
   "interpreter": {
    "hash": "4c28d0b8600a885067cd7fdae5d4170a24422c23d025e69e965e9101dafe9b39"
   }
  }
 },
 "nbformat": 4,
 "nbformat_minor": 2
}
